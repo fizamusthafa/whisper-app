{
 "cells": [
  {
   "cell_type": "code",
   "execution_count": 157,
   "id": "7b374942",
   "metadata": {},
   "outputs": [],
   "source": [
    "import numpy as np\n",
    "import pandas as pd\n",
    "import matplotlib.pyplot as plt\n",
    "import os "
   ]
  },
  {
   "cell_type": "code",
   "execution_count": 158,
   "id": "e0d6379a",
   "metadata": {},
   "outputs": [],
   "source": [
    "mooc = pd.read_csv('Course_data.csv')"
   ]
  },
  {
   "cell_type": "code",
   "execution_count": 159,
   "id": "e6d9053c",
   "metadata": {
    "scrolled": true
   },
   "outputs": [
    {
     "data": {
      "text/html": [
       "<div>\n",
       "<style scoped>\n",
       "    .dataframe tbody tr th:only-of-type {\n",
       "        vertical-align: middle;\n",
       "    }\n",
       "\n",
       "    .dataframe tbody tr th {\n",
       "        vertical-align: top;\n",
       "    }\n",
       "\n",
       "    .dataframe thead th {\n",
       "        text-align: right;\n",
       "    }\n",
       "</style>\n",
       "<table border=\"1\" class=\"dataframe\">\n",
       "  <thead>\n",
       "    <tr style=\"text-align: right;\">\n",
       "      <th></th>\n",
       "      <th>title</th>\n",
       "      <th>summary</th>\n",
       "      <th>n_enrolled</th>\n",
       "      <th>course_type</th>\n",
       "      <th>institution</th>\n",
       "      <th>instructors</th>\n",
       "      <th>Level</th>\n",
       "      <th>subject</th>\n",
       "      <th>language</th>\n",
       "      <th>subtitles</th>\n",
       "      <th>course_effort</th>\n",
       "      <th>course_length</th>\n",
       "      <th>price</th>\n",
       "      <th>course_description</th>\n",
       "      <th>course_syllabus</th>\n",
       "      <th>course_url</th>\n",
       "    </tr>\n",
       "  </thead>\n",
       "  <tbody>\n",
       "    <tr>\n",
       "      <th>0</th>\n",
       "      <td>How to Learn Online</td>\n",
       "      <td>Learn essential strategies for successful onli...</td>\n",
       "      <td>124,980</td>\n",
       "      <td>Self-paced on your time</td>\n",
       "      <td>edX</td>\n",
       "      <td>Nina Huntemann-Robyn Belair-Ben Piscopo</td>\n",
       "      <td>Introductory</td>\n",
       "      <td>Education &amp; Teacher Training</td>\n",
       "      <td>English</td>\n",
       "      <td>English</td>\n",
       "      <td>2–3 hours per week</td>\n",
       "      <td>2 Weeks</td>\n",
       "      <td>FREE-Add a Verified Certificate for $49 USD</td>\n",
       "      <td>Designed for those who are new to elearning, t...</td>\n",
       "      <td>Welcome - We start with opportunities to meet ...</td>\n",
       "      <td>https://www.edx.org/course/how-to-learn-online</td>\n",
       "    </tr>\n",
       "    <tr>\n",
       "      <th>1</th>\n",
       "      <td>Programming for Everybody (Getting Started wit...</td>\n",
       "      <td>This course is a \"no prerequisite\" introductio...</td>\n",
       "      <td>293,864</td>\n",
       "      <td>Self-paced on your time</td>\n",
       "      <td>The University of Michigan</td>\n",
       "      <td>Charles Severance</td>\n",
       "      <td>Introductory</td>\n",
       "      <td>Computer Science</td>\n",
       "      <td>English</td>\n",
       "      <td>English</td>\n",
       "      <td>2–4 hours per week</td>\n",
       "      <td>7 Weeks</td>\n",
       "      <td>FREE-Add a Verified Certificate for $49 USD</td>\n",
       "      <td>This course aims to teach everyone the basics ...</td>\n",
       "      <td>NaN</td>\n",
       "      <td>https://www.edx.org/course/programming-for-eve...</td>\n",
       "    </tr>\n",
       "  </tbody>\n",
       "</table>\n",
       "</div>"
      ],
      "text/plain": [
       "                                               title  \\\n",
       "0                                How to Learn Online   \n",
       "1  Programming for Everybody (Getting Started wit...   \n",
       "\n",
       "                                             summary n_enrolled  \\\n",
       "0  Learn essential strategies for successful onli...    124,980   \n",
       "1  This course is a \"no prerequisite\" introductio...    293,864   \n",
       "\n",
       "               course_type                 institution  \\\n",
       "0  Self-paced on your time                         edX   \n",
       "1  Self-paced on your time  The University of Michigan   \n",
       "\n",
       "                               instructors         Level  \\\n",
       "0  Nina Huntemann-Robyn Belair-Ben Piscopo  Introductory   \n",
       "1                        Charles Severance  Introductory   \n",
       "\n",
       "                        subject language subtitles       course_effort  \\\n",
       "0  Education & Teacher Training  English   English  2–3 hours per week   \n",
       "1              Computer Science  English   English  2–4 hours per week   \n",
       "\n",
       "  course_length                                        price  \\\n",
       "0       2 Weeks  FREE-Add a Verified Certificate for $49 USD   \n",
       "1       7 Weeks  FREE-Add a Verified Certificate for $49 USD   \n",
       "\n",
       "                                  course_description  \\\n",
       "0  Designed for those who are new to elearning, t...   \n",
       "1  This course aims to teach everyone the basics ...   \n",
       "\n",
       "                                     course_syllabus  \\\n",
       "0  Welcome - We start with opportunities to meet ...   \n",
       "1                                                NaN   \n",
       "\n",
       "                                          course_url  \n",
       "0     https://www.edx.org/course/how-to-learn-online  \n",
       "1  https://www.edx.org/course/programming-for-eve...  "
      ]
     },
     "execution_count": 159,
     "metadata": {},
     "output_type": "execute_result"
    }
   ],
   "source": [
    "mooc.head(2)"
   ]
  },
  {
   "cell_type": "code",
   "execution_count": 160,
   "id": "563467d3",
   "metadata": {},
   "outputs": [
    {
     "data": {
      "text/plain": [
       "'PRE-PROCESSING'"
      ]
     },
     "execution_count": 160,
     "metadata": {},
     "output_type": "execute_result"
    }
   ],
   "source": [
    "'''PRE-PROCESSING'''"
   ]
  },
  {
   "cell_type": "code",
   "execution_count": 161,
   "id": "1f7e4126",
   "metadata": {},
   "outputs": [
    {
     "data": {
      "text/plain": [
       "title                   0\n",
       "summary                53\n",
       "n_enrolled            120\n",
       "course_type             0\n",
       "institution             0\n",
       "instructors             3\n",
       "Level                   0\n",
       "subject                 0\n",
       "language                0\n",
       "subtitles               3\n",
       "course_effort           0\n",
       "course_length           0\n",
       "price                   0\n",
       "course_description     40\n",
       "course_syllabus       561\n",
       "course_url              0\n",
       "dtype: int64"
      ]
     },
     "execution_count": 161,
     "metadata": {},
     "output_type": "execute_result"
    }
   ],
   "source": [
    "mooc.isnull().sum()"
   ]
  },
  {
   "cell_type": "code",
   "execution_count": 162,
   "id": "bfebf856",
   "metadata": {},
   "outputs": [],
   "source": [
    "mooc.dropna(inplace=True)"
   ]
  },
  {
   "cell_type": "code",
   "execution_count": 163,
   "id": "2629c603",
   "metadata": {},
   "outputs": [
    {
     "data": {
      "text/plain": [
       "0"
      ]
     },
     "execution_count": 163,
     "metadata": {},
     "output_type": "execute_result"
    }
   ],
   "source": [
    "mooc.duplicated().sum()"
   ]
  },
  {
   "cell_type": "code",
   "execution_count": 164,
   "id": "7545391c",
   "metadata": {},
   "outputs": [],
   "source": [
    "mooc.drop_duplicates(inplace=True)"
   ]
  },
  {
   "cell_type": "code",
   "execution_count": 165,
   "id": "6f543a5b",
   "metadata": {},
   "outputs": [
    {
     "data": {
      "text/plain": [
       "'Learn essential strategies for successful online learning'"
      ]
     },
     "execution_count": 165,
     "metadata": {},
     "output_type": "execute_result"
    }
   ],
   "source": [
    "mooc.iloc[0]['summary']"
   ]
  },
  {
   "cell_type": "code",
   "execution_count": 166,
   "id": "dd5861b7",
   "metadata": {},
   "outputs": [],
   "source": [
    "# Preprocess 'course_description' and 'summary' column: Split text into lists of words\n",
    "mooc['displayed_summary'] = mooc['summary']\n",
    "mooc['course_description'] = mooc['course_description'].apply(lambda x:x.split())\n",
    "mooc['summary'] = mooc['summary'].apply(lambda x:x.split())\n",
    "mooc['course_syllabus'] = mooc['course_syllabus'].apply(lambda x:x.split())\n",
    "mooc['instructors'] = mooc['instructors'].apply(lambda x:x.split())\n",
    "mooc['subject'] = mooc['subject'].apply(lambda x:x.split())"
   ]
  },
  {
   "cell_type": "code",
   "execution_count": 167,
   "id": "70e5713b",
   "metadata": {},
   "outputs": [
    {
     "data": {
      "text/plain": [
       "'\\ndef remove_space(word)\\n    l = []\\n    for i in word:\\n        l.append(i.replace(\" \", \"\"))\\n    return l\\n\\n'"
      ]
     },
     "execution_count": 167,
     "metadata": {},
     "output_type": "execute_result"
    }
   ],
   "source": [
    "'''\n",
    "def remove_space(word)\n",
    "    l = []\n",
    "    for i in word:\n",
    "        l.append(i.replace(\" \", \"\"))\n",
    "    return l\n",
    "\n",
    "'''"
   ]
  },
  {
   "cell_type": "code",
   "execution_count": 168,
   "id": "2bcdff26",
   "metadata": {},
   "outputs": [],
   "source": [
    "mooc['tags'] = mooc['course_description'] + mooc['summary'] + mooc['instructors'] + mooc['subject']"
   ]
  },
  {
   "cell_type": "code",
   "execution_count": 169,
   "id": "bcb40478",
   "metadata": {},
   "outputs": [
    {
     "data": {
      "text/html": [
       "<div>\n",
       "<style scoped>\n",
       "    .dataframe tbody tr th:only-of-type {\n",
       "        vertical-align: middle;\n",
       "    }\n",
       "\n",
       "    .dataframe tbody tr th {\n",
       "        vertical-align: top;\n",
       "    }\n",
       "\n",
       "    .dataframe thead th {\n",
       "        text-align: right;\n",
       "    }\n",
       "</style>\n",
       "<table border=\"1\" class=\"dataframe\">\n",
       "  <thead>\n",
       "    <tr style=\"text-align: right;\">\n",
       "      <th></th>\n",
       "      <th>title</th>\n",
       "      <th>institution</th>\n",
       "      <th>displayed_summary</th>\n",
       "      <th>tags</th>\n",
       "    </tr>\n",
       "  </thead>\n",
       "  <tbody>\n",
       "    <tr>\n",
       "      <th>0</th>\n",
       "      <td>How to Learn Online</td>\n",
       "      <td>edX</td>\n",
       "      <td>Learn essential strategies for successful onli...</td>\n",
       "      <td>[Designed, for, those, who, are, new, to, elea...</td>\n",
       "    </tr>\n",
       "    <tr>\n",
       "      <th>6</th>\n",
       "      <td>Leading High-Performing Teams</td>\n",
       "      <td>The University of Queensland</td>\n",
       "      <td>Learn how to motivate, engage and empower peop...</td>\n",
       "      <td>[This, course, will, blend, business, theory, ...</td>\n",
       "    </tr>\n",
       "    <tr>\n",
       "      <th>8</th>\n",
       "      <td>Managing Study, Stress and Mental Health at Un...</td>\n",
       "      <td>Curtin University</td>\n",
       "      <td>Develop a clearer understanding of what mental...</td>\n",
       "      <td>[This, short, course, is, a, German-Australian...</td>\n",
       "    </tr>\n",
       "    <tr>\n",
       "      <th>9</th>\n",
       "      <td>Six Sigma: Define and Measure</td>\n",
       "      <td>Technische Universität München</td>\n",
       "      <td>An introduction to the Six Sigma methodology a...</td>\n",
       "      <td>[Understand, the, background, and, meaning, of...</td>\n",
       "    </tr>\n",
       "    <tr>\n",
       "      <th>10</th>\n",
       "      <td>Fat Chance: Probability from the Ground Up</td>\n",
       "      <td>Harvard University</td>\n",
       "      <td>Increase your quantitative reasoning skills th...</td>\n",
       "      <td>[Created, specifically, for, those, who, are, ...</td>\n",
       "    </tr>\n",
       "  </tbody>\n",
       "</table>\n",
       "</div>"
      ],
      "text/plain": [
       "                                                title  \\\n",
       "0                                 How to Learn Online   \n",
       "6                       Leading High-Performing Teams   \n",
       "8   Managing Study, Stress and Mental Health at Un...   \n",
       "9                       Six Sigma: Define and Measure   \n",
       "10         Fat Chance: Probability from the Ground Up   \n",
       "\n",
       "                       institution  \\\n",
       "0                              edX   \n",
       "6     The University of Queensland   \n",
       "8                Curtin University   \n",
       "9   Technische Universität München   \n",
       "10              Harvard University   \n",
       "\n",
       "                                    displayed_summary  \\\n",
       "0   Learn essential strategies for successful onli...   \n",
       "6   Learn how to motivate, engage and empower peop...   \n",
       "8   Develop a clearer understanding of what mental...   \n",
       "9   An introduction to the Six Sigma methodology a...   \n",
       "10  Increase your quantitative reasoning skills th...   \n",
       "\n",
       "                                                 tags  \n",
       "0   [Designed, for, those, who, are, new, to, elea...  \n",
       "6   [This, course, will, blend, business, theory, ...  \n",
       "8   [This, short, course, is, a, German-Australian...  \n",
       "9   [Understand, the, background, and, meaning, of...  \n",
       "10  [Created, specifically, for, those, who, are, ...  "
      ]
     },
     "execution_count": 169,
     "metadata": {},
     "output_type": "execute_result"
    }
   ],
   "source": [
    "newdf = mooc[['title', 'institution', 'displayed_summary', 'tags']]\n",
    "newdf.head()"
   ]
  },
  {
   "cell_type": "code",
   "execution_count": 170,
   "id": "d02f53f8",
   "metadata": {},
   "outputs": [
    {
     "name": "stderr",
     "output_type": "stream",
     "text": [
      "C:\\Users\\fizam\\AppData\\Local\\Temp\\ipykernel_26856\\315590720.py:1: SettingWithCopyWarning: \n",
      "A value is trying to be set on a copy of a slice from a DataFrame.\n",
      "Try using .loc[row_indexer,col_indexer] = value instead\n",
      "\n",
      "See the caveats in the documentation: https://pandas.pydata.org/pandas-docs/stable/user_guide/indexing.html#returning-a-view-versus-a-copy\n",
      "  newdf['tags'] = newdf['tags'].apply(lambda x:\" \".join(x))\n"
     ]
    },
    {
     "data": {
      "text/html": [
       "<div>\n",
       "<style scoped>\n",
       "    .dataframe tbody tr th:only-of-type {\n",
       "        vertical-align: middle;\n",
       "    }\n",
       "\n",
       "    .dataframe tbody tr th {\n",
       "        vertical-align: top;\n",
       "    }\n",
       "\n",
       "    .dataframe thead th {\n",
       "        text-align: right;\n",
       "    }\n",
       "</style>\n",
       "<table border=\"1\" class=\"dataframe\">\n",
       "  <thead>\n",
       "    <tr style=\"text-align: right;\">\n",
       "      <th></th>\n",
       "      <th>title</th>\n",
       "      <th>institution</th>\n",
       "      <th>displayed_summary</th>\n",
       "      <th>tags</th>\n",
       "    </tr>\n",
       "  </thead>\n",
       "  <tbody>\n",
       "    <tr>\n",
       "      <th>0</th>\n",
       "      <td>How to Learn Online</td>\n",
       "      <td>edX</td>\n",
       "      <td>Learn essential strategies for successful onli...</td>\n",
       "      <td>Designed for those who are new to elearning, t...</td>\n",
       "    </tr>\n",
       "    <tr>\n",
       "      <th>6</th>\n",
       "      <td>Leading High-Performing Teams</td>\n",
       "      <td>The University of Queensland</td>\n",
       "      <td>Learn how to motivate, engage and empower peop...</td>\n",
       "      <td>This course will blend business theory and rea...</td>\n",
       "    </tr>\n",
       "    <tr>\n",
       "      <th>8</th>\n",
       "      <td>Managing Study, Stress and Mental Health at Un...</td>\n",
       "      <td>Curtin University</td>\n",
       "      <td>Develop a clearer understanding of what mental...</td>\n",
       "      <td>This short course is a German-Australian colla...</td>\n",
       "    </tr>\n",
       "    <tr>\n",
       "      <th>9</th>\n",
       "      <td>Six Sigma: Define and Measure</td>\n",
       "      <td>Technische Universität München</td>\n",
       "      <td>An introduction to the Six Sigma methodology a...</td>\n",
       "      <td>Understand the background and meaning of Six S...</td>\n",
       "    </tr>\n",
       "    <tr>\n",
       "      <th>10</th>\n",
       "      <td>Fat Chance: Probability from the Ground Up</td>\n",
       "      <td>Harvard University</td>\n",
       "      <td>Increase your quantitative reasoning skills th...</td>\n",
       "      <td>Created specifically for those who are new to ...</td>\n",
       "    </tr>\n",
       "  </tbody>\n",
       "</table>\n",
       "</div>"
      ],
      "text/plain": [
       "                                                title  \\\n",
       "0                                 How to Learn Online   \n",
       "6                       Leading High-Performing Teams   \n",
       "8   Managing Study, Stress and Mental Health at Un...   \n",
       "9                       Six Sigma: Define and Measure   \n",
       "10         Fat Chance: Probability from the Ground Up   \n",
       "\n",
       "                       institution  \\\n",
       "0                              edX   \n",
       "6     The University of Queensland   \n",
       "8                Curtin University   \n",
       "9   Technische Universität München   \n",
       "10              Harvard University   \n",
       "\n",
       "                                    displayed_summary  \\\n",
       "0   Learn essential strategies for successful onli...   \n",
       "6   Learn how to motivate, engage and empower peop...   \n",
       "8   Develop a clearer understanding of what mental...   \n",
       "9   An introduction to the Six Sigma methodology a...   \n",
       "10  Increase your quantitative reasoning skills th...   \n",
       "\n",
       "                                                 tags  \n",
       "0   Designed for those who are new to elearning, t...  \n",
       "6   This course will blend business theory and rea...  \n",
       "8   This short course is a German-Australian colla...  \n",
       "9   Understand the background and meaning of Six S...  \n",
       "10  Created specifically for those who are new to ...  "
      ]
     },
     "execution_count": 170,
     "metadata": {},
     "output_type": "execute_result"
    }
   ],
   "source": [
    "newdf['tags'] = newdf['tags'].apply(lambda x:\" \".join(x))\n",
    "newdf.head()"
   ]
  },
  {
   "cell_type": "code",
   "execution_count": 171,
   "id": "126a3b99",
   "metadata": {},
   "outputs": [
    {
     "name": "stderr",
     "output_type": "stream",
     "text": [
      "C:\\Users\\fizam\\AppData\\Local\\Temp\\ipykernel_26856\\1582226200.py:1: SettingWithCopyWarning: \n",
      "A value is trying to be set on a copy of a slice from a DataFrame.\n",
      "Try using .loc[row_indexer,col_indexer] = value instead\n",
      "\n",
      "See the caveats in the documentation: https://pandas.pydata.org/pandas-docs/stable/user_guide/indexing.html#returning-a-view-versus-a-copy\n",
      "  newdf['tags'] = newdf['tags'].apply(lambda x:x.lower())\n"
     ]
    },
    {
     "data": {
      "text/html": [
       "<div>\n",
       "<style scoped>\n",
       "    .dataframe tbody tr th:only-of-type {\n",
       "        vertical-align: middle;\n",
       "    }\n",
       "\n",
       "    .dataframe tbody tr th {\n",
       "        vertical-align: top;\n",
       "    }\n",
       "\n",
       "    .dataframe thead th {\n",
       "        text-align: right;\n",
       "    }\n",
       "</style>\n",
       "<table border=\"1\" class=\"dataframe\">\n",
       "  <thead>\n",
       "    <tr style=\"text-align: right;\">\n",
       "      <th></th>\n",
       "      <th>title</th>\n",
       "      <th>institution</th>\n",
       "      <th>displayed_summary</th>\n",
       "      <th>tags</th>\n",
       "    </tr>\n",
       "  </thead>\n",
       "  <tbody>\n",
       "    <tr>\n",
       "      <th>0</th>\n",
       "      <td>How to Learn Online</td>\n",
       "      <td>edX</td>\n",
       "      <td>Learn essential strategies for successful onli...</td>\n",
       "      <td>designed for those who are new to elearning, t...</td>\n",
       "    </tr>\n",
       "    <tr>\n",
       "      <th>6</th>\n",
       "      <td>Leading High-Performing Teams</td>\n",
       "      <td>The University of Queensland</td>\n",
       "      <td>Learn how to motivate, engage and empower peop...</td>\n",
       "      <td>this course will blend business theory and rea...</td>\n",
       "    </tr>\n",
       "    <tr>\n",
       "      <th>8</th>\n",
       "      <td>Managing Study, Stress and Mental Health at Un...</td>\n",
       "      <td>Curtin University</td>\n",
       "      <td>Develop a clearer understanding of what mental...</td>\n",
       "      <td>this short course is a german-australian colla...</td>\n",
       "    </tr>\n",
       "    <tr>\n",
       "      <th>9</th>\n",
       "      <td>Six Sigma: Define and Measure</td>\n",
       "      <td>Technische Universität München</td>\n",
       "      <td>An introduction to the Six Sigma methodology a...</td>\n",
       "      <td>understand the background and meaning of six s...</td>\n",
       "    </tr>\n",
       "    <tr>\n",
       "      <th>10</th>\n",
       "      <td>Fat Chance: Probability from the Ground Up</td>\n",
       "      <td>Harvard University</td>\n",
       "      <td>Increase your quantitative reasoning skills th...</td>\n",
       "      <td>created specifically for those who are new to ...</td>\n",
       "    </tr>\n",
       "  </tbody>\n",
       "</table>\n",
       "</div>"
      ],
      "text/plain": [
       "                                                title  \\\n",
       "0                                 How to Learn Online   \n",
       "6                       Leading High-Performing Teams   \n",
       "8   Managing Study, Stress and Mental Health at Un...   \n",
       "9                       Six Sigma: Define and Measure   \n",
       "10         Fat Chance: Probability from the Ground Up   \n",
       "\n",
       "                       institution  \\\n",
       "0                              edX   \n",
       "6     The University of Queensland   \n",
       "8                Curtin University   \n",
       "9   Technische Universität München   \n",
       "10              Harvard University   \n",
       "\n",
       "                                    displayed_summary  \\\n",
       "0   Learn essential strategies for successful onli...   \n",
       "6   Learn how to motivate, engage and empower peop...   \n",
       "8   Develop a clearer understanding of what mental...   \n",
       "9   An introduction to the Six Sigma methodology a...   \n",
       "10  Increase your quantitative reasoning skills th...   \n",
       "\n",
       "                                                 tags  \n",
       "0   designed for those who are new to elearning, t...  \n",
       "6   this course will blend business theory and rea...  \n",
       "8   this short course is a german-australian colla...  \n",
       "9   understand the background and meaning of six s...  \n",
       "10  created specifically for those who are new to ...  "
      ]
     },
     "execution_count": 171,
     "metadata": {},
     "output_type": "execute_result"
    }
   ],
   "source": [
    "newdf['tags'] = newdf['tags'].apply(lambda x:x.lower())\n",
    "newdf.head()"
   ]
  },
  {
   "cell_type": "code",
   "execution_count": 172,
   "id": "3364e751",
   "metadata": {},
   "outputs": [],
   "source": [
    "#accounting for similar words \n",
    "import nltk\n",
    "from nltk.stem import PorterStemmer\n",
    "\n",
    "ps = PorterStemmer()"
   ]
  },
  {
   "cell_type": "code",
   "execution_count": 173,
   "id": "cf026668",
   "metadata": {},
   "outputs": [],
   "source": [
    "def stems(text):\n",
    "    l = []\n",
    "    for i in text.split():\n",
    "        l.append(ps.stem(i))\n",
    "        \n",
    "    return \" \".join(l)"
   ]
  },
  {
   "cell_type": "code",
   "execution_count": 174,
   "id": "0760f188",
   "metadata": {},
   "outputs": [
    {
     "name": "stderr",
     "output_type": "stream",
     "text": [
      "C:\\Users\\fizam\\AppData\\Local\\Temp\\ipykernel_26856\\2911367822.py:1: SettingWithCopyWarning: \n",
      "A value is trying to be set on a copy of a slice from a DataFrame.\n",
      "Try using .loc[row_indexer,col_indexer] = value instead\n",
      "\n",
      "See the caveats in the documentation: https://pandas.pydata.org/pandas-docs/stable/user_guide/indexing.html#returning-a-view-versus-a-copy\n",
      "  newdf['tags'] = newdf['tags'].apply(stems)\n"
     ]
    }
   ],
   "source": [
    "newdf['tags'] = newdf['tags'].apply(stems)"
   ]
  },
  {
   "cell_type": "code",
   "execution_count": 175,
   "id": "626bed24",
   "metadata": {},
   "outputs": [
    {
     "data": {
      "text/plain": [
       "'design for those who are new to elearning, thi cours will prepar you with strategi to be a success onlin learner.th edx learn design team ha curat some of the most powerful, science-back techniqu which you can start use right away and on ani learn platform.th verifi certif for thi cours is free. use the follow coupon code befor septemb 1, 2020 to upgrad at no cost to you: y5zadm5nu2an5ju7thi cours will help you answer the follow questions: learn essenti strategi for success onlin learn nina huntemann-robyn belair-ben piscopo educ & teacher train'"
      ]
     },
     "execution_count": 175,
     "metadata": {},
     "output_type": "execute_result"
    }
   ],
   "source": [
    "newdf.iloc[0]['tags']"
   ]
  },
  {
   "cell_type": "code",
   "execution_count": 176,
   "id": "6a040304",
   "metadata": {},
   "outputs": [],
   "source": [
    "from sklearn.feature_extraction.text import CountVectorizer\n",
    "cv = CountVectorizer(max_features=5000, stop_words= 'english')"
   ]
  },
  {
   "cell_type": "code",
   "execution_count": 177,
   "id": "fb25ef1e",
   "metadata": {},
   "outputs": [],
   "source": [
    "vector = cv.fit_transform(newdf['tags']).toarray()"
   ]
  },
  {
   "cell_type": "code",
   "execution_count": 178,
   "id": "c2b48974",
   "metadata": {},
   "outputs": [
    {
     "data": {
      "text/plain": [
       "array([[0, 0, 0, ..., 0, 0, 0],\n",
       "       [0, 0, 0, ..., 0, 0, 0],\n",
       "       [0, 0, 0, ..., 0, 0, 0],\n",
       "       ...,\n",
       "       [0, 0, 0, ..., 0, 0, 0],\n",
       "       [0, 0, 0, ..., 0, 0, 0],\n",
       "       [0, 0, 0, ..., 0, 0, 0]], dtype=int64)"
      ]
     },
     "execution_count": 178,
     "metadata": {},
     "output_type": "execute_result"
    }
   ],
   "source": [
    "vector"
   ]
  },
  {
   "cell_type": "code",
   "execution_count": 179,
   "id": "d328a224",
   "metadata": {},
   "outputs": [
    {
     "data": {
      "text/plain": [
       "(355, 5000)"
      ]
     },
     "execution_count": 179,
     "metadata": {},
     "output_type": "execute_result"
    }
   ],
   "source": [
    "vector.shape"
   ]
  },
  {
   "cell_type": "code",
   "execution_count": 180,
   "id": "4486f14b",
   "metadata": {},
   "outputs": [],
   "source": [
    "from sklearn.metrics.pairwise import cosine_similarity"
   ]
  },
  {
   "cell_type": "code",
   "execution_count": 181,
   "id": "0f340f8d",
   "metadata": {},
   "outputs": [],
   "source": [
    "similarity = cosine_similarity(vector)"
   ]
  },
  {
   "cell_type": "code",
   "execution_count": 182,
   "id": "961d66a7",
   "metadata": {},
   "outputs": [
    {
     "data": {
      "text/plain": [
       "array([[1.        , 0.21464535, 0.20837856, ..., 0.00313453, 0.20921041,\n",
       "        0.19668431],\n",
       "       [0.21464535, 1.        , 0.22773747, ..., 0.00131759, 0.11725467,\n",
       "        0.18188652],\n",
       "       [0.20837856, 0.22773747, 1.        , ..., 0.00153495, 0.1451349 ,\n",
       "        0.20225996],\n",
       "       ...,\n",
       "       [0.00313453, 0.00131759, 0.00153495, ..., 1.        , 0.00128423,\n",
       "        0.        ],\n",
       "       [0.20921041, 0.11725467, 0.1451349 , ..., 0.00128423, 1.        ,\n",
       "        0.14504813],\n",
       "       [0.19668431, 0.18188652, 0.20225996, ..., 0.        , 0.14504813,\n",
       "        1.        ]])"
      ]
     },
     "execution_count": 182,
     "metadata": {},
     "output_type": "execute_result"
    }
   ],
   "source": [
    "similarity"
   ]
  },
  {
   "cell_type": "code",
   "execution_count": 183,
   "id": "7e470868",
   "metadata": {},
   "outputs": [
    {
     "data": {
      "text/plain": [
       "(355, 355)"
      ]
     },
     "execution_count": 183,
     "metadata": {},
     "output_type": "execute_result"
    }
   ],
   "source": [
    "similarity.shape"
   ]
  },
  {
   "cell_type": "code",
   "execution_count": 184,
   "id": "ba5b1e5c",
   "metadata": {},
   "outputs": [
    {
     "data": {
      "text/plain": [
       "6"
      ]
     },
     "execution_count": 184,
     "metadata": {},
     "output_type": "execute_result"
    }
   ],
   "source": [
    "newdf[newdf['title'] == 'Leading High-Performing Teams'].index[0]"
   ]
  },
  {
   "cell_type": "code",
   "execution_count": 185,
   "id": "d95d0d74",
   "metadata": {},
   "outputs": [],
   "source": [
    "def recommend(mooc):\n",
    "    index = newdf[newdf['title'] == mooc].index[0]\n",
    "    distances =sorted(list(enumerate(similarity[index])), reverse=True, key = lambda x: x[1])\n",
    "    for i in distances[1:8]:\n",
    "        print(newdf.iloc[i[0]].title)"
   ]
  },
  {
   "cell_type": "code",
   "execution_count": 186,
   "id": "6933b401",
   "metadata": {},
   "outputs": [
    {
     "name": "stdout",
     "output_type": "stream",
     "text": [
      "Deep Learning with Python and PyTorch\n",
      "Machine Learning with Python: A Practical Introduction\n",
      "Machine Learning\n",
      "Analyzing Data with Python\n",
      "Machine Learning with Python: from Linear Models to Deep Learning\n",
      "Deep Learning Fundamentals with Keras\n",
      "Deep Learning Essentials\n"
     ]
    }
   ],
   "source": [
    "recommend('Computing in Python II: Control Structures')"
   ]
  },
  {
   "cell_type": "code",
   "execution_count": 187,
   "id": "03ea2741",
   "metadata": {},
   "outputs": [],
   "source": [
    "import pickle\n",
    "\n",
    "pickle.dump(newdf, open('artifacts/mooc_list.pkl', 'wb'))\n",
    "pickle.dump(similarity, open('artifacts/similarity.pkl','wb'))\n",
    "        \n"
   ]
  },
  {
   "cell_type": "code",
   "execution_count": null,
   "id": "9efeff42",
   "metadata": {},
   "outputs": [],
   "source": []
  }
 ],
 "metadata": {
  "kernelspec": {
   "display_name": "Python 3 (ipykernel)",
   "language": "python",
   "name": "python3"
  },
  "language_info": {
   "codemirror_mode": {
    "name": "ipython",
    "version": 3
   },
   "file_extension": ".py",
   "mimetype": "text/x-python",
   "name": "python",
   "nbconvert_exporter": "python",
   "pygments_lexer": "ipython3",
   "version": "3.11.4"
  }
 },
 "nbformat": 4,
 "nbformat_minor": 5
}
